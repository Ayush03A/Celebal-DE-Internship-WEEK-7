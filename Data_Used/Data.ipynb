{
  "nbformat": 4,
  "nbformat_minor": 0,
  "metadata": {
    "colab": {
      "provenance": []
    },
    "kernelspec": {
      "name": "python3",
      "display_name": "Python 3"
    },
    "language_info": {
      "name": "python"
    }
  },
  "cells": [
    {
      "cell_type": "code",
      "execution_count": 1,
      "metadata": {
        "colab": {
          "base_uri": "https://localhost:8080/"
        },
        "id": "ei2xZYLrwHUA",
        "outputId": "af9e633e-b170-4d13-f110-bb605073902d"
      },
      "outputs": [
        {
          "output_type": "stream",
          "name": "stdout",
          "text": [
            "Requirement already satisfied: pandas in /usr/local/lib/python3.11/dist-packages (2.2.2)\n",
            "Requirement already satisfied: numpy in /usr/local/lib/python3.11/dist-packages (2.0.2)\n",
            "Collecting faker\n",
            "  Downloading faker-37.4.2-py3-none-any.whl.metadata (15 kB)\n",
            "Requirement already satisfied: python-dateutil>=2.8.2 in /usr/local/lib/python3.11/dist-packages (from pandas) (2.9.0.post0)\n",
            "Requirement already satisfied: pytz>=2020.1 in /usr/local/lib/python3.11/dist-packages (from pandas) (2025.2)\n",
            "Requirement already satisfied: tzdata>=2022.7 in /usr/local/lib/python3.11/dist-packages (from pandas) (2025.2)\n",
            "Requirement already satisfied: six>=1.5 in /usr/local/lib/python3.11/dist-packages (from python-dateutil>=2.8.2->pandas) (1.17.0)\n",
            "Downloading faker-37.4.2-py3-none-any.whl (1.9 MB)\n",
            "\u001b[2K   \u001b[90m━━━━━━━━━━━━━━━━━━━━━━━━━━━━━━━━━━━━━━━━\u001b[0m \u001b[32m1.9/1.9 MB\u001b[0m \u001b[31m18.1 MB/s\u001b[0m eta \u001b[36m0:00:00\u001b[0m\n",
            "\u001b[?25hInstalling collected packages: faker\n",
            "Successfully installed faker-37.4.2\n"
          ]
        }
      ],
      "source": [
        "%pip install pandas numpy faker"
      ]
    },
    {
      "cell_type": "code",
      "source": [
        "#Generate CUST_MSTR CSV\n",
        "\n",
        "import csv\n",
        "from faker import Faker\n",
        "from datetime import datetime, timedelta\n",
        "\n",
        "fake = Faker()\n",
        "num_rows = 5000                # Rows per file (adjust as needed)\n",
        "num_files = 3                  # Number of files (dates)\n",
        "\n",
        "start_date = datetime(2019, 11, 12)\n",
        "\n",
        "for i in range(num_files):\n",
        "    file_date = start_date + timedelta(days=i)\n",
        "    date_str = file_date.strftime('%Y%m%d')\n",
        "    filename = f\"CUST_MSTR_{date_str}.csv\"\n",
        "    with open(filename, 'w', newline='') as csvfile:\n",
        "        writer = csv.writer(csvfile)\n",
        "        writer.writerow(['CustomerID', 'FirstName', 'LastName', 'Email'])\n",
        "        for cust_id in range(1, num_rows + 1):\n",
        "            writer.writerow([100000 + cust_id, fake.first_name(), fake.last_name(), fake.email()])\n",
        "    print(f\"Generated {filename} with {num_rows} rows.\")\n"
      ],
      "metadata": {
        "colab": {
          "base_uri": "https://localhost:8080/"
        },
        "id": "RqA3g33SwKPj",
        "outputId": "1a07ff9f-84c8-4957-cb87-4e3ccb59bb6a"
      },
      "execution_count": 6,
      "outputs": [
        {
          "output_type": "stream",
          "name": "stdout",
          "text": [
            "Generated CUST_MSTR_20191112.csv with 5000 rows.\n",
            "Generated CUST_MSTR_20191113.csv with 5000 rows.\n",
            "Generated CUST_MSTR_20191114.csv with 5000 rows.\n"
          ]
        }
      ]
    },
    {
      "cell_type": "code",
      "source": [
        "#Generate master_child_export CSV\n",
        "\n",
        "import csv\n",
        "from faker import Faker\n",
        "from datetime import datetime, timedelta\n",
        "\n",
        "fake = Faker()\n",
        "num_rows = 5000\n",
        "num_files = 3\n",
        "start_date = datetime(2019, 11, 12)\n",
        "\n",
        "for i in range(num_files):\n",
        "    file_date = start_date + timedelta(days=i)\n",
        "    date_str = file_date.strftime('%Y%m%d')\n",
        "    filename = f\"master_child_export-{date_str}.csv\"\n",
        "    with open(filename, 'w', newline='') as csvfile:\n",
        "        writer = csv.writer(csvfile)\n",
        "        writer.writerow(['MasterID', 'ChildID', 'ChildName'])\n",
        "        for idx in range(1, num_rows + 1):\n",
        "            master_id = fake.random_int(1, 1000)\n",
        "            child_id = 90000 + idx\n",
        "            child_name = fake.word().capitalize()\n",
        "            writer.writerow([master_id, child_id, child_name])\n",
        "    print(f\"Generated {filename} with {num_rows} rows.\")\n"
      ],
      "metadata": {
        "colab": {
          "base_uri": "https://localhost:8080/"
        },
        "id": "YazQ55bWwRvP",
        "outputId": "a2834bf8-3816-4c87-c7cd-9ae971a36c59"
      },
      "execution_count": 7,
      "outputs": [
        {
          "output_type": "stream",
          "name": "stdout",
          "text": [
            "Generated master_child_export-20191112.csv with 5000 rows.\n",
            "Generated master_child_export-20191113.csv with 5000 rows.\n",
            "Generated master_child_export-20191114.csv with 5000 rows.\n"
          ]
        }
      ]
    },
    {
      "cell_type": "code",
      "source": [
        "#Generate H_ECOM_ORDER CSV\n",
        "\n",
        "import csv\n",
        "from faker import Faker\n",
        "from datetime import datetime, timedelta\n",
        "import random\n",
        "\n",
        "fake = Faker()\n",
        "num_rows = 5000\n",
        "num_files = 3\n",
        "start_date = datetime(2019, 11, 12)\n",
        "\n",
        "for i in range(num_files):\n",
        "    file_date = start_date + timedelta(days=i)\n",
        "    date_str = file_date.strftime('%Y%m%d')\n",
        "    filename = f\"H_ECOM_ORDER_{date_str}.csv\"\n",
        "    with open(filename, 'w', newline='') as csvfile:\n",
        "        writer = csv.writer(csvfile)\n",
        "        writer.writerow(['OrderID', 'CustomerID', 'OrderValue', 'OrderDate'])\n",
        "        for idx in range(1, num_rows + 1):\n",
        "            order_id = 30000 + idx\n",
        "            customer_id = random.randint(100000, 999999)\n",
        "            order_value = round(random.uniform(20.0, 5000.0), 2)\n",
        "            order_date = file_date.strftime('%Y-%m-%d')\n",
        "            writer.writerow([order_id, customer_id, order_value, order_date])\n",
        "    print(f\"Generated {filename} with {num_rows} rows.\")\n"
      ],
      "metadata": {
        "colab": {
          "base_uri": "https://localhost:8080/"
        },
        "id": "PnEUh6_wwgdV",
        "outputId": "858d3583-5bc9-4d82-b2fc-ca62744dd63a"
      },
      "execution_count": 8,
      "outputs": [
        {
          "output_type": "stream",
          "name": "stdout",
          "text": [
            "Generated H_ECOM_ORDER_20191112.csv with 5000 rows.\n",
            "Generated H_ECOM_ORDER_20191113.csv with 5000 rows.\n",
            "Generated H_ECOM_ORDER_20191114.csv with 5000 rows.\n"
          ]
        }
      ]
    },
    {
      "cell_type": "code",
      "source": [],
      "metadata": {
        "id": "XkXiHb9mwuRz"
      },
      "execution_count": null,
      "outputs": []
    }
  ]
}